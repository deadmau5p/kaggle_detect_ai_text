{
 "cells": [
  {
   "cell_type": "markdown",
   "metadata": {},
   "source": [
    "### Roberta classifer"
   ]
  },
  {
   "cell_type": "code",
   "execution_count": 2,
   "metadata": {},
   "outputs": [],
   "source": [
    "import datasets\n",
    "import pandas as pd\n",
    "from datasets import Dataset\n",
    "from transformers import RobertaForSequenceClassification, RobertaTokenizerFast, Trainer, TrainingArguments\n",
    "from datasets import load_dataset, DatasetDict\n",
    "import torch"
   ]
  },
  {
   "cell_type": "code",
   "execution_count": null,
   "metadata": {},
   "outputs": [],
   "source": [
    "def make_submission():\n",
    "    roberta_model = RobertaForSequenceClassification.from_pretrained(\"/kaggle/input/roberta-trained-0-1/finetuned_model/\").to(\"cuda\")\n",
    "    tokenizer = RobertaTokenizerFast.from_pretrained(\"/kaggle/input/roberta-trained-0-1/finetuned_model/\")\n",
    "    \n",
    "    test_df = pd.read_csv(\"/kaggle/input/llm-detect-ai-generated-text/test_essays.csv\")\n",
    "    test_dataset = Dataset.from_pandas(test_df)\n",
    "    \n",
    "    submisson_dataset = test_dataset.map(lambda x: tokenizer(x[\"text\"], padding=\"max_length\", truncation=True), batched=True)\n",
    "    # final test dataset\n",
    "    test_dataset = Dataset.from_pandas(pd.read_csv(\"/kaggle/input/llm-detect-ai-generated-text/test_essays.csv\"))\n",
    "    \n",
    "    def predict(batch):\n",
    "        batch = {k:torch.tensor(v).to(\"cuda\") for k,v in batch.items() if k in [\"input_ids\",\"attention_mask\"]}\n",
    "        with torch.no_grad():\n",
    "            output = roberta_model(**batch)\n",
    "        logits = output.logits.detach().cpu()\n",
    "        probs_generated = logits.softmax(dim=1)[:,1]\n",
    "        return {'generated': probs_generated.tolist()}\n",
    "    \n",
    "    submisson_results = submisson_dataset.map(lambda x: predict(x), batched=True)\n",
    "    submisson_results.to_pandas()[[\"id\", \"generated\"]].to_csv(\"submission.csv\", index=False)"
   ]
  },
  {
   "cell_type": "code",
   "execution_count": null,
   "metadata": {},
   "outputs": [],
   "source": [
    "make_submission()"
   ]
  }
 ],
 "metadata": {
  "kernelspec": {
   "display_name": ".detection_ai_venv",
   "language": "python",
   "name": "python3"
  },
  "language_info": {
   "codemirror_mode": {
    "name": "ipython",
    "version": 3
   },
   "file_extension": ".py",
   "mimetype": "text/x-python",
   "name": "python",
   "nbconvert_exporter": "python",
   "pygments_lexer": "ipython3",
   "version": "3.11.4"
  },
  "orig_nbformat": 4
 },
 "nbformat": 4,
 "nbformat_minor": 2
}
